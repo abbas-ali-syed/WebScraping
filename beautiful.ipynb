{
 "cells": [
  {
   "cell_type": "code",
   "execution_count": 125,
   "id": "c84421a0-2af1-4534-9811-e346d0a30fc6",
   "metadata": {},
   "outputs": [],
   "source": [
    "import pandas as pd\n",
    "import numpy as np\n",
    "import matplotlib.pyplot as plt\n",
    "\n",
    "%matplotlib inline\n",
    "\n",
    "from urllib.request import urlopen\n",
    "from bs4 import BeautifulSoup\n",
    "import re"
   ]
  },
  {
   "cell_type": "code",
   "execution_count": 126,
   "id": "b30300e5-2028-4d2d-ba1d-07e1f570b43c",
   "metadata": {},
   "outputs": [],
   "source": [
    "url=\"https://www.hubertiming.com/results/2018MLK\"\n",
    "html=urlopen(url)"
   ]
  },
  {
   "cell_type": "code",
   "execution_count": 127,
   "id": "c69d3c49-ca7d-4b3e-aa00-26c7d7014d38",
   "metadata": {},
   "outputs": [],
   "source": [
    "soup = BeautifulSoup(html)"
   ]
  },
  {
   "cell_type": "code",
   "execution_count": 128,
   "id": "56014a0b-8f7c-4518-a1ff-9ec3b46e1bdd",
   "metadata": {},
   "outputs": [
    {
     "name": "stdout",
     "output_type": "stream",
     "text": [
      "<title>Race results for the 2018 MLK Dream Run!</title>\n",
      "Race results for the 2018 MLK Dream Run!\n"
     ]
    }
   ],
   "source": [
    "title = soup.title\n",
    "print (title)\n",
    "print(title.text)"
   ]
  },
  {
   "cell_type": "code",
   "execution_count": 129,
   "id": "9dbf692b-e795-4272-b260-81dad5fd4d24",
   "metadata": {},
   "outputs": [
    {
     "name": "stdout",
     "output_type": "stream",
     "text": [
      "https://www.mlkdreamrun.com/\n",
      "mailto:timing@hubertiming.com\n",
      "https://www.hubertiming.com\n",
      "/results/2018MLK10K\n",
      "/results/2018MLK15K\n",
      "/results/summary/2018MLK\n",
      "#tabs-1\n",
      "https://www.hubertiming.com/\n",
      "https://facebook.com/hubertiming/\n",
      "[<a href=\"https://www.mlkdreamrun.com/\" target=\"_blank\">MLK Dream Run</a>, <a href=\"mailto:timing@hubertiming.com\">timing@hubertiming.com</a>, <a href=\"https://www.hubertiming.com\">Huber Timing Home</a>, <a class=\"btn btn-primary btn-lg\" href=\"/results/2018MLK10K\" role=\"button\" style=\"margin: 0px 0px 5px 5px\"><i aria-hidden=\"true\" class=\"fa fa-user\"></i> 10K</a>, <a class=\"btn btn-primary btn-lg\" href=\"/results/2018MLK15K\" role=\"button\" style=\"margin: 0px 0px 5px 5px\"><i aria-hidden=\"true\" class=\"fa fa-user\"></i> 15K</a>, <a class=\"btn btn-primary btn-lg\" href=\"/results/summary/2018MLK\" role=\"button\" style=\"margin: 0px 0px 5px 5px\"><i class=\"fa fa-stream\"></i> Summary</a>, <a data-url=\"/results/2018MLK\" href=\"#tabs-1\" id=\"rootTab\" style=\"font-size: 18px\">5K Results</a>, <a href=\"https://www.hubertiming.com/\"><img height=\"65\" src=\"https://www.hubertiming.com//sites/all/themes/hubertiming/images/clockWithFinishSign_small.png\" width=\"50\"/>Huber Timing</a>, <a href=\"https://facebook.com/hubertiming/\"><img src=\"https://www.hubertiming.com/results/FB-f-Logo__blue_50.png\"/></a>]\n"
     ]
    }
   ],
   "source": [
    "links = soup.find_all('a',href=True)\n",
    "for link in links:\n",
    "     print(link['href'])\n",
    "print(links)"
   ]
  },
  {
   "cell_type": "code",
   "execution_count": 130,
   "id": "a8cc5bde-e0f5-4af3-b17e-560d85aa95b7",
   "metadata": {},
   "outputs": [
    {
     "name": "stdout",
     "output_type": "stream",
     "text": [
      "[['190', '2087', '\\r\\n\\r\\n                    LEESHA POSEY\\r\\n\\r\\n                ', 'F', '43', 'PORTLAND', '1:33:53', '30:17', '\\r\\n\\r\\n                    112 of 113\\r\\n\\r\\n                ', 'F 40-54', '\\r\\n\\r\\n                    36 of 37\\r\\n\\r\\n                ', '0:00', '1:33:53'], ['191', '1216', '\\r\\n\\r\\n                    ZULMA OCHOA\\r\\n\\r\\n                ', 'F', '40', 'GRESHAM', '1:43:27', '33:22', '\\r\\n\\r\\n                    113 of 113\\r\\n\\r\\n                ', 'F 40-54', '\\r\\n\\r\\n                    37 of 37\\r\\n\\r\\n                ', '0:00', '1:43:27']]\n"
     ]
    }
   ],
   "source": [
    "data =[]\n",
    "allrows = soup.find_all(\"tr\")\n",
    "for row in allrows:\n",
    "    row_list = row.find_all(\"td\")\n",
    "    dataRow = []\n",
    "    for cell in row_list:\n",
    "        dataRow.append(cell.text)\n",
    "    data.append(dataRow)\n",
    "data= data[5:]\n",
    "print(data[-2:])"
   ]
  },
  {
   "cell_type": "code",
   "execution_count": 131,
   "id": "a7a33eca-79b0-43a2-b113-6df977c70765",
   "metadata": {},
   "outputs": [
    {
     "name": "stdout",
     "output_type": "stream",
     "text": [
      "  0     1                                                  2  3   4   \\\n",
      "0  1  1191  \\r\\n\\r\\n                    MAX RANDOLPH\\r\\n\\r...  M  29   \n",
      "1  2  1080  \\r\\n\\r\\n                    NEED NAME KAISER R...  M  25   \n",
      "\n",
      "           5      6     7                                                  8   \\\n",
      "0  WASHINGTON  16:48  5:25  \\r\\n\\r\\n                    1 of 78\\r\\n\\r\\n   ...   \n",
      "1    PORTLAND  17:31  5:39  \\r\\n\\r\\n                    2 of 78\\r\\n\\r\\n   ...   \n",
      "\n",
      "        9                                                  10    11     12  \n",
      "0  M 21-39  \\r\\n\\r\\n                    1 of 33\\r\\n\\r\\n   ...  0:08  16:56  \n",
      "1  M 21-39  \\r\\n\\r\\n                    2 of 33\\r\\n\\r\\n   ...  0:09  17:40  \n",
      "      0     1                                                  2  3   4   \\\n",
      "189  190  2087  \\r\\n\\r\\n                    LEESHA POSEY\\r\\n\\r...  F  43   \n",
      "190  191  1216  \\r\\n\\r\\n                    ZULMA OCHOA\\r\\n\\r\\...  F  40   \n",
      "\n",
      "           5        6      7   \\\n",
      "189  PORTLAND  1:33:53  30:17   \n",
      "190   GRESHAM  1:43:27  33:22   \n",
      "\n",
      "                                                    8        9   \\\n",
      "189  \\r\\n\\r\\n                    112 of 113\\r\\n\\r\\n...  F 40-54   \n",
      "190  \\r\\n\\r\\n                    113 of 113\\r\\n\\r\\n...  F 40-54   \n",
      "\n",
      "                                                    10    11       12  \n",
      "189  \\r\\n\\r\\n                    36 of 37\\r\\n\\r\\n  ...  0:00  1:33:53  \n",
      "190  \\r\\n\\r\\n                    37 of 37\\r\\n\\r\\n  ...  0:00  1:43:27  \n"
     ]
    }
   ],
   "source": [
    "df = pd.DataFrame(data)\n",
    "print(df.head(2))\n",
    "print(df.tail(2))"
   ]
  },
  {
   "cell_type": "code",
   "execution_count": 132,
   "id": "6b72277b-bf25-4ef7-bea3-2ce4e8be9a8f",
   "metadata": {},
   "outputs": [
    {
     "name": "stdout",
     "output_type": "stream",
     "text": [
      "['Place', 'Bib', 'Name', 'Gender', 'Age', 'City', 'Chip Time', 'Chip Pace', 'Gender Place', 'Age Group', 'Age Group Place', 'Time to Start', 'Gun Time']\n"
     ]
    }
   ],
   "source": [
    "header_list =[]\n",
    "col_headers = soup.find_all('th')\n",
    "for col in col_headers:\n",
    "    header_list.append(col.text)\n",
    "print(header_list)\n"
   ]
  },
  {
   "cell_type": "code",
   "execution_count": 133,
   "id": "662a69b0-ea88-4f96-a371-207d69fbf383",
   "metadata": {},
   "outputs": [
    {
     "name": "stdout",
     "output_type": "stream",
     "text": [
      "  Place   Bib                                               Name Gender Age  \\\n",
      "0     1  1191  \\r\\n\\r\\n                    MAX RANDOLPH\\r\\n\\r...      M  29   \n",
      "1     2  1080  \\r\\n\\r\\n                    NEED NAME KAISER R...      M  25   \n",
      "2     3  1275  \\r\\n\\r\\n                    DAN FRANEK\\r\\n\\r\\n...      M  52   \n",
      "3     4  1223  \\r\\n\\r\\n                    PAUL TAYLOR\\r\\n\\r\\...      M  54   \n",
      "4     5  1245  \\r\\n\\r\\n                    THEO KINMAN\\r\\n\\r\\...      M  22   \n",
      "\n",
      "         City Chip Time Chip Pace  \\\n",
      "0  WASHINGTON     16:48      5:25   \n",
      "1    PORTLAND     17:31      5:39   \n",
      "2    PORTLAND     18:15      5:53   \n",
      "3    PORTLAND     18:31      5:58   \n",
      "4                 19:31      6:17   \n",
      "\n",
      "                                        Gender Place Age Group  \\\n",
      "0  \\r\\n\\r\\n                    1 of 78\\r\\n\\r\\n   ...   M 21-39   \n",
      "1  \\r\\n\\r\\n                    2 of 78\\r\\n\\r\\n   ...   M 21-39   \n",
      "2  \\r\\n\\r\\n                    3 of 78\\r\\n\\r\\n   ...   M 40-54   \n",
      "3  \\r\\n\\r\\n                    4 of 78\\r\\n\\r\\n   ...   M 40-54   \n",
      "4  \\r\\n\\r\\n                    5 of 78\\r\\n\\r\\n   ...   M 21-39   \n",
      "\n",
      "                                     Age Group Place Time to Start Gun Time  \n",
      "0  \\r\\n\\r\\n                    1 of 33\\r\\n\\r\\n   ...          0:08    16:56  \n",
      "1  \\r\\n\\r\\n                    2 of 33\\r\\n\\r\\n   ...          0:09    17:40  \n",
      "2  \\r\\n\\r\\n                    1 of 27\\r\\n\\r\\n   ...          0:07    18:22  \n",
      "3  \\r\\n\\r\\n                    2 of 27\\r\\n\\r\\n   ...          0:07    18:38  \n",
      "4  \\r\\n\\r\\n                    3 of 33\\r\\n\\r\\n   ...          0:09    19:40  \n"
     ]
    }
   ],
   "source": [
    " df.columns = header_list\n",
    " print(df.head())"
   ]
  },
  {
   "cell_type": "code",
   "execution_count": 134,
   "id": "0407b786-37a9-4804-be9c-f29f5eb20496",
   "metadata": {},
   "outputs": [
    {
     "name": "stdout",
     "output_type": "stream",
     "text": [
      "<class 'pandas.core.frame.DataFrame'>\n",
      "RangeIndex: 191 entries, 0 to 190\n",
      "Data columns (total 13 columns):\n",
      " #   Column           Non-Null Count  Dtype \n",
      "---  ------           --------------  ----- \n",
      " 0   Place            191 non-null    object\n",
      " 1   Bib              191 non-null    object\n",
      " 2   Name             191 non-null    object\n",
      " 3   Gender           191 non-null    object\n",
      " 4   Age              191 non-null    object\n",
      " 5   City             191 non-null    object\n",
      " 6   Chip Time        191 non-null    object\n",
      " 7   Chip Pace        191 non-null    object\n",
      " 8   Gender Place     191 non-null    object\n",
      " 9   Age Group        191 non-null    object\n",
      " 10  Age Group Place  191 non-null    object\n",
      " 11  Time to Start    191 non-null    object\n",
      " 12  Gun Time         191 non-null    object\n",
      "dtypes: object(13)\n",
      "memory usage: 19.5+ KB\n"
     ]
    }
   ],
   "source": [
    "df.info()\n"
   ]
  },
  {
   "cell_type": "code",
   "execution_count": 135,
   "id": "e947ad6b-4e61-4fa9-b5d7-495d7ddec96e",
   "metadata": {},
   "outputs": [
    {
     "data": {
      "text/plain": [
       "(191, 13)"
      ]
     },
     "execution_count": 135,
     "metadata": {},
     "output_type": "execute_result"
    }
   ],
   "source": [
    "df.shape\n"
   ]
  },
  {
   "cell_type": "code",
   "execution_count": 136,
   "id": "3e9a7a56-a039-4db8-8535-a97540962c9c",
   "metadata": {},
   "outputs": [
    {
     "data": {
      "text/plain": [
       "(191, 13)"
      ]
     },
     "execution_count": 136,
     "metadata": {},
     "output_type": "execute_result"
    }
   ],
   "source": [
    "df2=df.dropna(how='any')\n",
    "df2.shape\n"
   ]
  },
  {
   "cell_type": "code",
   "execution_count": 137,
   "id": "8c1daeb8-7c61-41a1-ab2f-aadbc2879801",
   "metadata": {},
   "outputs": [
    {
     "name": "stdout",
     "output_type": "stream",
     "text": [
      "   ChipTime_minutes\n",
      "0            1008.0\n",
      "1            1051.0\n",
      "2            1095.0\n",
      "3            1111.0\n",
      "4            1171.0\n"
     ]
    }
   ],
   "source": [
    "df2['Chip Time'][0:152] = df2['Chip Time'][0:152] + \":00\"\n",
    "df2['ChipTime_minutes'] = pd.to_timedelta(df2['Chip Time'])\n",
    "df2['ChipTime_minutes'] = df2['ChipTime_minutes'].astype('timedelta64[s]') /60\n",
    "print(df2[['ChipTime_minutes']].head())"
   ]
  },
  {
   "cell_type": "code",
   "execution_count": 138,
   "id": "e7e52617-2252-4799-82c5-97e78d5c0faa",
   "metadata": {},
   "outputs": [
    {
     "data": {
      "text/plain": [
       "Text(0.5, 1.0, 'comparison of average time run by male and female')"
      ]
     },
     "execution_count": 138,
     "metadata": {},
     "output_type": "execute_result"
    },
    {
     "data": {
      "image/png": "[encoded data removed]",
      "text/plain": [
       "<Figure size 432x288 with 1 Axes>"
      ]
     },
     "metadata": {
      "needs_background": "light"
     },
     "output_type": "display_data"
    }
   ],
   "source": [
    "plt.bar(df2['Gender'],df2['ChipTime_minutes'])\n",
    "plt.xlabel('Gender')\n",
    "plt.ylabel('ChipTime')\n",
    "plt.title(\"comparison of average time run by male and female\")"
   ]
  },
  {
   "cell_type": "code",
   "execution_count": 139,
   "id": "ea1b19b8-972a-4193-bcdc-7cee546b774f",
   "metadata": {},
   "outputs": [
    {
     "data": {
      "text/html": [
       "<div>\n",
       "<style scoped>\n",
       "    .dataframe tbody tr th:only-of-type {\n",
       "        vertical-align: middle;\n",
       "    }\n",
       "\n",
       "    .dataframe tbody tr th {\n",
       "        vertical-align: top;\n",
       "    }\n",
       "\n",
       "    .dataframe thead th {\n",
       "        text-align: right;\n",
       "    }\n",
       "</style>\n",
       "<table border=\"1\" class=\"dataframe\">\n",
       "  <thead>\n",
       "    <tr style=\"text-align: right;\">\n",
       "      <th></th>\n",
       "      <th>ChipTime_minutes</th>\n",
       "    </tr>\n",
       "  </thead>\n",
       "  <tbody>\n",
       "    <tr>\n",
       "      <th>count</th>\n",
       "      <td>191.000000</td>\n",
       "    </tr>\n",
       "    <tr>\n",
       "      <th>mean</th>\n",
       "      <td>1774.745986</td>\n",
       "    </tr>\n",
       "    <tr>\n",
       "      <th>std</th>\n",
       "      <td>1030.807445</td>\n",
       "    </tr>\n",
       "    <tr>\n",
       "      <th>min</th>\n",
       "      <td>60.016667</td>\n",
       "    </tr>\n",
       "    <tr>\n",
       "      <th>25%</th>\n",
       "      <td>1501.000000</td>\n",
       "    </tr>\n",
       "    <tr>\n",
       "      <th>50%</th>\n",
       "      <td>1791.000000</td>\n",
       "    </tr>\n",
       "    <tr>\n",
       "      <th>75%</th>\n",
       "      <td>2510.000000</td>\n",
       "    </tr>\n",
       "    <tr>\n",
       "      <th>max</th>\n",
       "      <td>3598.000000</td>\n",
       "    </tr>\n",
       "  </tbody>\n",
       "</table>\n",
       "</div>"
      ],
      "text/plain": [
       "       ChipTime_minutes\n",
       "count        191.000000\n",
       "mean        1774.745986\n",
       "std         1030.807445\n",
       "min           60.016667\n",
       "25%         1501.000000\n",
       "50%         1791.000000\n",
       "75%         2510.000000\n",
       "max         3598.000000"
      ]
     },
     "execution_count": 139,
     "metadata": {},
     "output_type": "execute_result"
    }
   ],
   "source": [
    "df2.describe(include=[np.number])"
   ]
  },
  {
   "cell_type": "code",
   "execution_count": 140,
   "id": "64b4cc41-61c2-4383-b08a-eb18a0c234a8",
   "metadata": {},
   "outputs": [
    {
     "data": {
      "text/plain": [
       "Text(0, 0.5, 'Run Time')"
      ]
     },
     "execution_count": 140,
     "metadata": {},
     "output_type": "execute_result"
    },
    {
     "data": {
      "image/png": "[encoded data removed]",
      "text/plain": [
       "<Figure size 432x288 with 1 Axes>"
      ]
     },
     "metadata": {
      "needs_background": "light"
     },
     "output_type": "display_data"
    }
   ],
   "source": [
    "df2.boxplot(column='ChipTime_minutes',by='Gender')\n",
    "plt.ylabel('Run Time')"
   ]
  },
  {
   "cell_type": "code",
   "execution_count": 141,
   "id": "32da6bc5-3c5f-4be5-8148-91ddc9f1016e",
   "metadata": {},
   "outputs": [
    {
     "data": {
      "image/png": "[encoded data removed]",
      "text/plain": [
       "<Figure size 432x288 with 1 Axes>"
      ]
     },
     "metadata": {
      "needs_background": "light"
     },
     "output_type": "display_data"
    }
   ],
   "source": [
    "df2['Age_i'] = round(pd.to_numeric(df2['Age'],errors='coerce'))\n",
    "df2.dropna(how='any',inplace = True)\n",
    "\n",
    "plt.scatter(df2['ChipTime_minutes'],df2['Age_i'])\n",
    "plt.show()\n",
    "               \n",
    "               "
   ]
  }
 ],
 "metadata": {
  "kernelspec": {
   "display_name": "Python 3 (ipykernel)",
   "language": "python",
   "name": "python3"
  },
  "language_info": {
   "codemirror_mode": {
    "name": "ipython",
    "version": 3
   },
   "file_extension": ".py",
   "mimetype": "text/x-python",
   "name": "python",
   "nbconvert_exporter": "python",
   "pygments_lexer": "ipython3",
   "version": "3.9.7"
  }
 },
 "nbformat": 4,
 "nbformat_minor": 5
}
